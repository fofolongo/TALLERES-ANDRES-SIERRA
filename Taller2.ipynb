{
  "nbformat": 4,
  "nbformat_minor": 0,
  "metadata": {
    "colab": {
      "provenance": []
    },
    "kernelspec": {
      "name": "python3",
      "display_name": "Python 3"
    },
    "language_info": {
      "name": "python"
    }
  },
  "cells": [
    {
      "cell_type": "code",
      "source": [
        "import random\n",
        "\n",
        "class Carta:\n",
        "    def __init__(self, pinta, valor):\n",
        "        self.pinta = pinta\n",
        "        self.valor = valor\n",
        "\n",
        "    def __eq__(self, other):\n",
        "        return self.pinta == other.pinta and self.valor == other.valor\n",
        "\n",
        "    def __str__(self):\n",
        "        return f\"{self.pinta}{self.valor}\"\n",
        "\n",
        "    def __repr__(self):\n",
        "        return self.__str__()\n",
        "\n",
        "class Baraja:\n",
        "    def __init__(self):\n",
        "        numeros = [i for i in range(2, 11)] + [\"A\", \"J\", \"Q\", \"K\"]\n",
        "        pintas = [\"p\", \"c\", \"d\", \"t\"]\n",
        "        self.cartas = []\n",
        "        for pinta in pintas:\n",
        "            for numero in numeros:\n",
        "                self.cartas.append(Carta(pinta, numero))\n",
        "\n",
        "    def barajar(self):\n",
        "        random.shuffle(self.cartas)\n",
        "\n",
        "    def ordenar(self):\n",
        "        pass\n",
        "\n",
        "    def __eq__(self, other):\n",
        "        return self.cartas == other.cartas\n",
        "\n",
        "# Ejemplo de comparación de dos cartas\n",
        "carta1 = Carta(\"p\", \"A\")\n",
        "carta2 = Carta(\"p\", \"A\")\n",
        "carta3 = Carta(\"c\", \"A\")\n",
        "\n",
        "print(carta1 == carta2)\n",
        "print(carta1 == carta3)\n",
        "\n"
      ],
      "metadata": {
        "colab": {
          "base_uri": "https://localhost:8080/"
        },
        "id": "AEBpMPidnx0J",
        "outputId": "cebcb7e3-c7be-48c3-b1ad-76501ab37456"
      },
      "execution_count": 1,
      "outputs": [
        {
          "output_type": "stream",
          "name": "stdout",
          "text": [
            "True\n",
            "False\n",
            "[tK, d7, d6, cQ, c9, dJ, d10, t4, d2, c3, p2, p3, d8, tQ, c7, d9, t6, c5, p4, pJ, t7, cK, cJ, p10, d3, t2, c8, pA, tA, p6, d5, dQ, d4, p9, tJ, dA, t5, pQ, pK, cA, p8, dK, t3, c6, t10, t9, p5, c2, t8, p7, c4, c10]\n"
          ]
        }
      ]
    },
    {
      "cell_type": "code",
      "source": [],
      "metadata": {
        "id": "UnduP0bBBxCl"
      },
      "execution_count": null,
      "outputs": []
    }
  ]
}