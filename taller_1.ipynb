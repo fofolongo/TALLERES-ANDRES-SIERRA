{
  "cells": [
    {
      "cell_type": "markdown",
      "source": [
        "#** TALLER 1 **\n",
        "\n",
        " PUNTO 1"
      ],
      "metadata": {
        "id": "mHwWeem-QwPQ"
      }
    },
    {
      "cell_type": "code",
      "execution_count": 2,
      "metadata": {
        "colab": {
          "base_uri": "https://localhost:8080/"
        },
        "id": "f03BGuz6I0UT",
        "outputId": "4f78e5ab-e081-487c-ed06-f2cdb854ca12"
      },
      "outputs": [
        {
          "output_type": "stream",
          "name": "stdout",
          "text": [
            "Probabilidad: 49.962 %\n"
          ]
        }
      ],
      "source": [
        "import random\n",
        "\n",
        "llego_fin = 0\n",
        "N = 100000\n",
        "\n",
        "for x in range(N):\n",
        "    asientos = [False] * 100\n",
        "\n",
        "    # Pasajero 1 elige al azar\n",
        "    primer_asiento = random.randint(0, 99)\n",
        "    asientos[primer_asiento] = True  # Ocupar\n",
        "\n",
        "    # Otros pasajeros\n",
        "    for pasajero in range(1, 99):\n",
        "        if not asientos[pasajero]:\n",
        "            asientos[pasajero] = True\n",
        "        else:\n",
        "            # Elegir al azar entre los asientos libres\n",
        "            disponibles = []\n",
        "            for i in range(100):\n",
        "                if not asientos[i]:\n",
        "                  # Si el asiento está libre\n",
        "                    disponibles.append(i)\n",
        "\n",
        "            # Elegir un asiento al azar de los disponibles\n",
        "            asiento_elegido = random.choice(disponibles)\n",
        "            asientos[asiento_elegido] = True\n",
        "\n",
        "    # Verificar si el asiento 100 está libre\n",
        "    if not asientos[99]:\n",
        "        llego_fin += 1\n",
        "\n",
        "print(f\"Probabilidad: {llego_fin/N * 100} %\")"
      ]
    },
    {
      "cell_type": "markdown",
      "source": [
        "PUNTO 2"
      ],
      "metadata": {
        "id": "zaxyebvfRKz7"
      }
    },
    {
      "cell_type": "code",
      "source": [
        "import random\n",
        "\n",
        "adentro = 0\n",
        "afuera = 0\n",
        "N = 10000000\n",
        "\n",
        "for intento in range(N):\n",
        "    x = random.uniform(-0.5, 0.5)\n",
        "    y = random.uniform(-0.5, 0.5)\n",
        "\n",
        "    if(x*x + y*y <= 0.5*0.5):\n",
        "      adentro += 1\n",
        "    else:\n",
        "      afuera += 1\n",
        "\n",
        "print(\"el area apreoximadad es \" + str(4 * adentro/N))"
      ],
      "metadata": {
        "id": "BprFDce8RKPt",
        "colab": {
          "base_uri": "https://localhost:8080/"
        },
        "outputId": "8fd0b31c-7f10-4010-f79e-8613060b78be"
      },
      "execution_count": 8,
      "outputs": [
        {
          "output_type": "stream",
          "name": "stdout",
          "text": [
            "el area apreoximadad es 3.1413676\n"
          ]
        }
      ]
    },
    {
      "cell_type": "code",
      "source": [],
      "metadata": {
        "id": "RgXEgjkochTD"
      },
      "execution_count": null,
      "outputs": []
    }
  ],
  "metadata": {
    "colab": {
      "provenance": [],
      "gpuType": "V28"
    },
    "kernelspec": {
      "display_name": "Python 3",
      "name": "python3"
    },
    "language_info": {
      "name": "python"
    },
    "accelerator": "TPU"
  },
  "nbformat": 4,
  "nbformat_minor": 0
}